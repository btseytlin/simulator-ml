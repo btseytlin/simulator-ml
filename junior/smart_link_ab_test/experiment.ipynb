{
 "cells": [
  {
   "cell_type": "code",
   "execution_count": 1,
   "metadata": {},
   "outputs": [],
   "source": [
    "%load_ext autoreload\n",
    "%autoreload 2"
   ]
  },
  {
   "cell_type": "code",
   "execution_count": 21,
   "metadata": {},
   "outputs": [
    {
     "name": "stdout",
     "output_type": "stream",
     "text": [
      "86 1\n"
     ]
    },
    {
     "data": {
      "text/plain": [
       "(1, 'B')"
      ]
     },
     "execution_count": 21,
     "metadata": {},
     "output_type": "execute_result"
    }
   ],
   "source": [
    "from experiment1 import Experiment\n",
    "\n",
    "exp = Experiment(experiment_id=1)\n",
    "\n",
    "click_id = 1\n",
    "exp.group(click_id)"
   ]
  },
  {
   "cell_type": "code",
   "execution_count": 22,
   "metadata": {},
   "outputs": [
    {
     "name": "stdout",
     "output_type": "stream",
     "text": [
      "81 1\n"
     ]
    },
    {
     "data": {
      "text/plain": [
       "(1, 'B')"
      ]
     },
     "execution_count": 22,
     "metadata": {},
     "output_type": "execute_result"
    }
   ],
   "source": [
    "click_id = 2\n",
    "exp.group(click_id)"
   ]
  },
  {
   "cell_type": "code",
   "execution_count": 23,
   "metadata": {},
   "outputs": [
    {
     "name": "stdout",
     "output_type": "stream",
     "text": [
      "32 0\n"
     ]
    },
    {
     "data": {
      "text/plain": [
       "(0, 'A')"
      ]
     },
     "execution_count": 23,
     "metadata": {},
     "output_type": "execute_result"
    }
   ],
   "source": [
    "click_id = 3\n",
    "exp.group(click_id)"
   ]
  },
  {
   "cell_type": "code",
   "execution_count": 26,
   "metadata": {},
   "outputs": [
    {
     "data": {
      "text/plain": [
       "{'A': 0.211, 'B': 0.305, 'C': 0.484}"
      ]
     },
     "execution_count": 26,
     "metadata": {},
     "output_type": "execute_result"
    }
   ],
   "source": [
    "from experiment1 import Experiment\n",
    "\n",
    "exp = Experiment(experiment_id=1,\n",
    "                 groups=['A', 'B', 'C'],\n",
    "                 group_weights=[0.2, 0.3, 0.5])\n",
    "\n",
    "group_counts = {\n",
    "    'A': 0,\n",
    "    'B': 0,\n",
    "    'C': 0\n",
    "}\n",
    "for i in range(1000):\n",
    "    click_id = i\n",
    "    group_id, group_key = exp.group(click_id)\n",
    "    group_counts[group_key] += 1\n",
    "\n",
    "group_counts_sum = sum(group_counts.values())\n",
    "group_counts = {k: v / group_counts_sum for k, v in group_counts.items()}\n",
    "group_counts"
   ]
  },
  {
   "cell_type": "code",
   "execution_count": null,
   "metadata": {},
   "outputs": [],
   "source": []
  }
 ],
 "metadata": {
  "kernelspec": {
   "display_name": "Python 3",
   "language": "python",
   "name": "python3"
  },
  "language_info": {
   "codemirror_mode": {
    "name": "ipython",
    "version": 3
   },
   "file_extension": ".py",
   "mimetype": "text/x-python",
   "name": "python",
   "nbconvert_exporter": "python",
   "pygments_lexer": "ipython3",
   "version": "3.10.6"
  },
  "orig_nbformat": 4
 },
 "nbformat": 4,
 "nbformat_minor": 2
}
