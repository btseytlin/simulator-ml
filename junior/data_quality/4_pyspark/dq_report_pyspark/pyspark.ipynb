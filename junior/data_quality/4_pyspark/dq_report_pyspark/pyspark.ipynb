{
 "cells": [
  {
   "cell_type": "code",
   "execution_count": 1,
   "metadata": {},
   "outputs": [],
   "source": [
    "import datetime\n",
    "from dataclasses import dataclass\n",
    "from typing import Any, Dict, List, Union\n",
    "\n",
    "import numpy as np\n",
    "import pandas as pd\n",
    "import pyspark.sql as ps\n",
    "import scipy\n",
    "from pyspark.sql.functions import col, count\n"
   ]
  },
  {
   "cell_type": "code",
   "execution_count": 3,
   "metadata": {},
   "outputs": [],
   "source": [
    "%load_ext autoreload\n",
    "%autoreload 2"
   ]
  },
  {
   "cell_type": "code",
   "execution_count": 4,
   "metadata": {},
   "outputs": [
    {
     "name": "stderr",
     "output_type": "stream",
     "text": [
      "Setting default log level to \"WARN\".\n",
      "To adjust logging level use sc.setLogLevel(newLevel). For SparkR, use setLogLevel(newLevel).\n",
      "23/10/30 09:45:25 WARN NativeCodeLoader: Unable to load native-hadoop library for your platform... using builtin-java classes where applicable\n",
      "/Users/btseitlin/miniforge3/lib/python3.10/site-packages/pyspark/sql/context.py:113: FutureWarning: Deprecated in 3.0.0. Use SparkSession.builder.getOrCreate() instead.\n",
      "  warnings.warn(\n",
      "                                                                                \r"
     ]
    },
    {
     "name": "stdout",
     "output_type": "stream",
     "text": [
      "Number of rows: 7\n",
      "root\n",
      " |-- day: string (nullable = true)\n",
      " |-- item_id: string (nullable = true)\n",
      " |-- qty: string (nullable = true)\n",
      " |-- price: string (nullable = true)\n",
      " |-- revenue: string (nullable = true)\n",
      "\n",
      "+----------+-------+---+-----+-------+\n",
      "|       day|item_id|qty|price|revenue|\n",
      "+----------+-------+---+-----+-------+\n",
      "|2022-10-24|    100|  5|120.0|  500.0|\n",
      "|2022-10-24|    100|  6|120.0|  720.0|\n",
      "|2022-10-24|    200|  2|200.0|  400.0|\n",
      "|2022-10-24|    300| 10| 85.0|  850.0|\n",
      "|2022-10-23|    100|  3|110.0|  330.0|\n",
      "|2022-10-23|    200|  8|200.0| 1600.0|\n",
      "|2022-10-23|    300|  0| 90.0|    0.0|\n",
      "+----------+-------+---+-----+-------+\n",
      "\n"
     ]
    }
   ],
   "source": [
    "# Import the PySpark libraries\n",
    "from pyspark import SparkContext, SparkConf\n",
    "from pyspark.sql import SparkSession, SQLContext\n",
    "\n",
    "# Create a SparkSession\n",
    "spark = SparkSession.builder.appName(\"MyApp\").getOrCreate()\n",
    "\n",
    "# Create a SQLContext\n",
    "sqlContext = SQLContext(spark)\n",
    "\n",
    "# Load a CSV file\n",
    "df = sqlContext.read.csv(\"file:///Users/btseitlin/Documents/simulator-ml/junior/data_quality/dq_metrics/ke_daily_sales.csv\", header=True)\n",
    "\n",
    "# Count the number of rows in the DataFrame\n",
    "rowCount = df.count()\n",
    "\n",
    "# Print the row count\n",
    "print(\"Number of rows:\", rowCount)\n",
    "\n",
    "# Print the schema of the DataFrame\n",
    "df.printSchema()\n",
    "\n",
    "# Show the first 10 rows of the DataFrame\n",
    "df.show(10)\n"
   ]
  },
  {
   "cell_type": "code",
   "execution_count": 8,
   "metadata": {},
   "outputs": [
    {
     "data": {
      "text/plain": [
       "{'total': 7, 'count': 0, 'delta': 0.0}"
      ]
     },
     "execution_count": 8,
     "metadata": {},
     "output_type": "execute_result"
    }
   ],
   "source": [
    "from pyspark.sql.functions import isnan, when, count, col\n",
    "\n",
    "n = df.count()\n",
    "k = df.filter(isnan(col('day')) | col('day').isNull()).count()\n",
    "{\"total\": n, \"count\": k, \"delta\": k / n}"
   ]
  },
  {
   "cell_type": "code",
   "execution_count": 12,
   "metadata": {},
   "outputs": [],
   "source": [
    "import pyspark.sql.functions as f\n",
    "df.groupBy(df.columns)\\\n",
    "    .count()\\\n",
    "    .where(f.col('count') > 1)\\\n",
    "    .select(f.sum('count'))\\\n",
    "    .collect()[0].asDict()['sum(count)']"
   ]
  },
  {
   "cell_type": "code",
   "execution_count": 15,
   "metadata": {},
   "outputs": [
    {
     "name": "stdout",
     "output_type": "stream",
     "text": [
      "+----------+-------+---+-----+-------+\n",
      "|       day|item_id|qty|price|revenue|\n",
      "+----------+-------+---+-----+-------+\n",
      "|2022-10-24|    100|  5|120.0|  500.0|\n",
      "|2022-10-24|    100|  6|120.0|  720.0|\n",
      "|2022-10-24|    200|  2|200.0|  400.0|\n",
      "|2022-10-24|    300| 10| 85.0|  850.0|\n",
      "|2022-10-23|    100|  3|110.0|  330.0|\n",
      "|2022-10-23|    200|  8|200.0| 1600.0|\n",
      "|2022-10-23|    300|  0| 90.0|    0.0|\n",
      "+----------+-------+---+-----+-------+\n",
      "\n"
     ]
    }
   ],
   "source": [
    "df.show()"
   ]
  },
  {
   "cell_type": "code",
   "execution_count": 38,
   "metadata": {},
   "outputs": [
    {
     "name": "stdout",
     "output_type": "stream",
     "text": [
      "+----+---+\n",
      "|   a|  b|\n",
      "+----+---+\n",
      "|   1|NaN|\n",
      "|NULL|1.0|\n",
      "|   1|1.0|\n",
      "+----+---+\n",
      "\n",
      "None\n"
     ]
    },
    {
     "data": {
      "text/plain": [
       "{'total': 3, 'count': 0, 'delta': 0.0}"
      ]
     },
     "execution_count": 38,
     "metadata": {},
     "output_type": "execute_result"
    }
   ],
   "source": [
    "from metrics import CountNull\n",
    "\n",
    "df = spark.createDataFrame([(1, float('nan')), (None, 1.0), (1, 1.0)], (\"a\", \"b\"))\n",
    "print(df.show())\n",
    "\n",
    "CountNull(\n",
    "    columns=['a', 'b'],\n",
    "    aggregation='all',\n",
    ")(df)"
   ]
  },
  {
   "cell_type": "code",
   "execution_count": 42,
   "metadata": {},
   "outputs": [
    {
     "name": "stdout",
     "output_type": "stream",
     "text": [
      "+----+---+\n",
      "|   a|  b|\n",
      "+----+---+\n",
      "|   1|1.0|\n",
      "|NULL|1.0|\n",
      "|   1|1.0|\n",
      "+----+---+\n",
      "\n",
      "None\n"
     ]
    },
    {
     "data": {
      "text/plain": [
       "{'total': 3, 'count': 2, 'delta': 0.6666666666666666}"
      ]
     },
     "execution_count": 42,
     "metadata": {},
     "output_type": "execute_result"
    }
   ],
   "source": [
    "from metrics import CountDuplicates\n",
    "\n",
    "df = spark.createDataFrame([(1, 1.0), (None, 1.0), (1, 1.0)], (\"a\", \"b\"))\n",
    "print(df.show())\n",
    "\n",
    "CountDuplicates(\n",
    "    columns=['a', 'b'],\n",
    ")(df)"
   ]
  },
  {
   "cell_type": "code",
   "execution_count": 48,
   "metadata": {},
   "outputs": [
    {
     "name": "stdout",
     "output_type": "stream",
     "text": [
      "+----+----+\n",
      "|   a|   b|\n",
      "+----+----+\n",
      "|   1| 1.0|\n",
      "|NULL| 1.0|\n",
      "|NULL| 1.0|\n",
      "|NULL|NULL|\n",
      "|NULL|NULL|\n",
      "+----+----+\n",
      "\n",
      "None\n"
     ]
    },
    {
     "data": {
      "text/plain": [
       "{'total': 5, 'count': 4, 'delta': 0.8}"
      ]
     },
     "execution_count": 48,
     "metadata": {},
     "output_type": "execute_result"
    }
   ],
   "source": [
    "from metrics import CountDuplicates\n",
    "\n",
    "df = spark.createDataFrame([(1, 1.0), (None, 1.0), (None, 1.0), (None, None), (None, None)], (\"a\", \"b\"))\n",
    "print(df.show())\n",
    "\n",
    "CountDuplicates(\n",
    "    columns=['a', 'b'],\n",
    ")(df)"
   ]
  },
  {
   "cell_type": "code",
   "execution_count": 44,
   "metadata": {},
   "outputs": [
    {
     "name": "stdout",
     "output_type": "stream",
     "text": [
      "+---+---+\n",
      "|  a|  b|\n",
      "+---+---+\n",
      "|  1|1.0|\n",
      "|  5|1.0|\n",
      "|  1|1.0|\n",
      "+---+---+\n",
      "\n",
      "None\n"
     ]
    },
    {
     "data": {
      "text/plain": [
       "{'total': 3, 'count': 2, 'delta': 0.6666666666666666}"
      ]
     },
     "execution_count": 44,
     "metadata": {},
     "output_type": "execute_result"
    }
   ],
   "source": [
    "from metrics import CountBelowValue\n",
    "\n",
    "df = spark.createDataFrame([(1, 1.0), (5, 1.0), (1, 1.0)], (\"a\", \"b\"))\n",
    "print(df.show())\n",
    "\n",
    "CountBelowValue(\n",
    "    column='a',\n",
    "    value=2,\n",
    ")(df)"
   ]
  },
  {
   "cell_type": "code",
   "execution_count": 54,
   "metadata": {},
   "outputs": [
    {
     "name": "stdout",
     "output_type": "stream",
     "text": [
      "+----+----+---+\n",
      "|   a|   b|  c|\n",
      "+----+----+---+\n",
      "|   1| 1.0|  5|\n",
      "|   1| 0.0|  5|\n",
      "|NULL| 1.0|  1|\n",
      "|NULL| 1.0|  2|\n",
      "|NULL|NULL|  3|\n",
      "|NULL|NULL|  4|\n",
      "+----+----+---+\n",
      "\n",
      "None\n"
     ]
    },
    {
     "data": {
      "text/plain": [
       "{'total': 6, 'count': 1, 'delta': 0.16666666666666666}"
      ]
     },
     "execution_count": 54,
     "metadata": {},
     "output_type": "execute_result"
    }
   ],
   "source": [
    "from metrics import CountRatioBelow\n",
    "\n",
    "df = spark.createDataFrame([(1, 1.0, 5), (1, 0.0, 5), (None, 1.0, 1), (None, 1.0, 2), (None, None, 3), (None, None, 4)], (\"a\", \"b\", \"c\"))\n",
    "print(df.show())\n",
    "\n",
    "CountRatioBelow(\n",
    "    column_x='a',\n",
    "    column_y='b',\n",
    "    column_z='c',\n",
    ")(df)"
   ]
  },
  {
   "cell_type": "code",
   "execution_count": 58,
   "metadata": {},
   "outputs": [
    {
     "name": "stdout",
     "output_type": "stream",
     "text": [
      "+----+----+---+\n",
      "|   a|   b|  c|\n",
      "+----+----+---+\n",
      "|   1| 1.0|  5|\n",
      "|   1| 0.0|  5|\n",
      "|NULL| 1.0|  1|\n",
      "|NULL| 1.0|  2|\n",
      "|NULL|NULL|  3|\n",
      "|NULL|NULL|  4|\n",
      "+----+----+---+\n",
      "\n",
      "None\n"
     ]
    },
    {
     "name": "stderr",
     "output_type": "stream",
     "text": [
      "                                                                                \r"
     ]
    },
    {
     "data": {
      "text/plain": [
       "{'lcb': 1.0, 'ucb': 1.0}"
      ]
     },
     "execution_count": 58,
     "metadata": {},
     "output_type": "execute_result"
    }
   ],
   "source": [
    "from metrics import CountCB\n",
    "\n",
    "df = spark.createDataFrame([(1, 1.0, 5), (1, 0.0, 5), (None, 1.0, 1), (None, 1.0, 2), (None, None, 3), (None, None, 4)], (\"a\", \"b\", \"c\"))\n",
    "print(df.show())\n",
    "\n",
    "CountCB(\n",
    "    column='a',\n",
    ")(df)"
   ]
  },
  {
   "cell_type": "code",
   "execution_count": 61,
   "metadata": {},
   "outputs": [
    {
     "name": "stdout",
     "output_type": "stream",
     "text": [
      "+----------+---+---+\n",
      "|         a|  b|  c|\n",
      "+----------+---+---+\n",
      "|2022-10-24|  1|  1|\n",
      "+----------+---+---+\n",
      "\n",
      "None\n"
     ]
    },
    {
     "data": {
      "text/plain": [
       "{'today': '2023-10-30', 'last_day': '2022-10-24', 'lag': 371}"
      ]
     },
     "execution_count": 61,
     "metadata": {},
     "output_type": "execute_result"
    }
   ],
   "source": [
    "from metrics import CountLag\n",
    "\n",
    "df = spark.createDataFrame([(\"2022-10-24\", 1, 1)], (\"a\", \"b\", \"c\"))\n",
    "print(df.show())\n",
    "\n",
    "CountLag(\n",
    "    column='a',\n",
    ")(df)"
   ]
  },
  {
   "cell_type": "code",
   "execution_count": null,
   "metadata": {},
   "outputs": [],
   "source": []
  }
 ],
 "metadata": {
  "kernelspec": {
   "display_name": "base",
   "language": "python",
   "name": "python3"
  },
  "language_info": {
   "codemirror_mode": {
    "name": "ipython",
    "version": 3
   },
   "file_extension": ".py",
   "mimetype": "text/x-python",
   "name": "python",
   "nbconvert_exporter": "python",
   "pygments_lexer": "ipython3",
   "version": "3.10.6"
  }
 },
 "nbformat": 4,
 "nbformat_minor": 2
}
