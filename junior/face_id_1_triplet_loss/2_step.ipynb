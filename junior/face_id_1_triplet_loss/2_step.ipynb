{
 "cells": [
  {
   "cell_type": "code",
   "execution_count": 114,
   "metadata": {},
   "outputs": [
    {
     "name": "stdout",
     "output_type": "stream",
     "text": [
      "The autoreload extension is already loaded. To reload it, use:\n",
      "  %reload_ext autoreload\n"
     ]
    }
   ],
   "source": [
    "%load_ext autoreload\n",
    "%autoreload 2"
   ]
  },
  {
   "cell_type": "code",
   "execution_count": 115,
   "metadata": {},
   "outputs": [],
   "source": [
    "from contrastive_loss_2 import contrastive_loss\n",
    "import numpy as np\n"
   ]
  },
  {
   "cell_type": "code",
   "execution_count": 116,
   "metadata": {},
   "outputs": [
    {
     "data": {
      "text/plain": [
       "0.0"
      ]
     },
     "execution_count": 116,
     "metadata": {},
     "output_type": "execute_result"
    }
   ],
   "source": [
    "N = 3\n",
    "M = 5\n",
    "x1 = np.random.uniform(size=(N, M))\n",
    "x2 = x1\n",
    "y = np.array([1]*N)\n",
    "margin = 0.1\n",
    "\n",
    "contrastive_loss(x1, x2, y, margin)"
   ]
  },
  {
   "cell_type": "code",
   "execution_count": 117,
   "metadata": {},
   "outputs": [
    {
     "data": {
      "text/plain": [
       "0.010000000000000002"
      ]
     },
     "execution_count": 117,
     "metadata": {},
     "output_type": "execute_result"
    }
   ],
   "source": [
    "x1 = np.random.uniform(size=(N, M))\n",
    "x2 = x1\n",
    "y = np.array([0]*N)\n",
    "margin = 0.1\n",
    "\n",
    "contrastive_loss(x1, x2, y, margin)"
   ]
  },
  {
   "cell_type": "code",
   "execution_count": 118,
   "metadata": {},
   "outputs": [
    {
     "data": {
      "text/plain": [
       "0.5520017556489268"
      ]
     },
     "execution_count": 118,
     "metadata": {},
     "output_type": "execute_result"
    }
   ],
   "source": [
    "x1 = np.random.uniform(size=(N, M))\n",
    "x2 = np.random.uniform(size=(N, M))\n",
    "y = np.array([1]*N)\n",
    "margin = 0.1\n",
    "\n",
    "contrastive_loss(x1, x2, y, margin)"
   ]
  },
  {
   "cell_type": "code",
   "execution_count": 119,
   "metadata": {},
   "outputs": [
    {
     "data": {
      "text/plain": [
       "0.0"
      ]
     },
     "execution_count": 119,
     "metadata": {},
     "output_type": "execute_result"
    }
   ],
   "source": [
    "x1 = np.random.uniform(size=(N, M))\n",
    "x2 = np.random.uniform(size=(N, M))\n",
    "y = np.array([0]*N)\n",
    "margin = 0.1\n",
    "\n",
    "contrastive_loss(x1, x2, y, margin)"
   ]
  },
  {
   "cell_type": "code",
   "execution_count": 120,
   "metadata": {},
   "outputs": [
    {
     "data": {
      "text/plain": [
       "array([0.73247997, 0.99247635, 0.93492262])"
      ]
     },
     "execution_count": 120,
     "metadata": {},
     "output_type": "execute_result"
    }
   ],
   "source": [
    "np.linalg.norm(x1-x2,axis=1)"
   ]
  },
  {
   "cell_type": "code",
   "execution_count": 121,
   "metadata": {},
   "outputs": [
    {
     "data": {
      "text/plain": [
       "array([0.73247997, 0.99247635, 0.93492262])"
      ]
     },
     "execution_count": 121,
     "metadata": {},
     "output_type": "execute_result"
    }
   ],
   "source": [
    "np.sqrt(np.sum(np.square(x1-x2), axis=1))"
   ]
  },
  {
   "cell_type": "code",
   "execution_count": 122,
   "metadata": {},
   "outputs": [
    {
     "name": "stdout",
     "output_type": "stream",
     "text": [
      "0.13723780572190125 0.13723780572190125\n"
     ]
    }
   ],
   "source": [
    "x1= np.array([[ 0.59, 6.91, 5.93],[ 7.55,-4.19,-5.57]])\n",
    "x2=np.array([[-0.52,7.76,-2.43], [-5.7, 2.19, 7.96]])\n",
    "y=np.array([0,0])\n",
    "margin=9.0\n",
    "expected = 0.13723780572190125\n",
    "\n",
    "pred = contrastive_loss(x1, x2, y, margin)\n",
    "print(pred, expected)"
   ]
  },
  {
   "cell_type": "code",
   "execution_count": 123,
   "metadata": {},
   "outputs": [],
   "source": [
    "from contrastive_loss_3_pytorch import contrastive_loss\n",
    "import torch\n"
   ]
  },
  {
   "cell_type": "code",
   "execution_count": 124,
   "metadata": {},
   "outputs": [
    {
     "data": {
      "text/plain": [
       "tensor(0.)"
      ]
     },
     "execution_count": 124,
     "metadata": {},
     "output_type": "execute_result"
    }
   ],
   "source": [
    "N = 3\n",
    "M = 5\n",
    "x1 = torch.Tensor(np.random.uniform(size=(N, M)))\n",
    "x2 = x1\n",
    "y = torch.Tensor([1]*N)\n",
    "margin = 0.1\n",
    "\n",
    "contrastive_loss(x1, x2, y, margin)"
   ]
  },
  {
   "cell_type": "code",
   "execution_count": 125,
   "metadata": {},
   "outputs": [
    {
     "data": {
      "text/plain": [
       "tensor(0.0100)"
      ]
     },
     "execution_count": 125,
     "metadata": {},
     "output_type": "execute_result"
    }
   ],
   "source": [
    "x1 = torch.Tensor(np.random.uniform(size=(N, M)))\n",
    "x2 = x1\n",
    "y = torch.Tensor(np.array([0]*N))\n",
    "margin = 0.1\n",
    "\n",
    "contrastive_loss(x1, x2, y, margin)"
   ]
  },
  {
   "cell_type": "code",
   "execution_count": 130,
   "metadata": {},
   "outputs": [
    {
     "name": "stdout",
     "output_type": "stream",
     "text": [
      "tensor(0.1372) tensor(0.1372)\n"
     ]
    }
   ],
   "source": [
    "x1= torch.Tensor([[ 0.59, 6.91, 5.93],[ 7.55,-4.19,-5.57]])\n",
    "x2=torch.Tensor([[-0.52,7.76,-2.43], [-5.7, 2.19, 7.96]])\n",
    "y=torch.Tensor([0,0])\n",
    "margin=9.0\n",
    "expected = torch.Tensor([0.13723780572190125])[0]\n",
    "\n",
    "pred = contrastive_loss(x1, x2, y, margin)\n",
    "print(pred, expected)"
   ]
  },
  {
   "cell_type": "code",
   "execution_count": null,
   "metadata": {},
   "outputs": [],
   "source": []
  }
 ],
 "metadata": {
  "kernelspec": {
   "display_name": "base",
   "language": "python",
   "name": "python3"
  },
  "language_info": {
   "codemirror_mode": {
    "name": "ipython",
    "version": 3
   },
   "file_extension": ".py",
   "mimetype": "text/x-python",
   "name": "python",
   "nbconvert_exporter": "python",
   "pygments_lexer": "ipython3",
   "version": "3.10.6"
  }
 },
 "nbformat": 4,
 "nbformat_minor": 2
}
