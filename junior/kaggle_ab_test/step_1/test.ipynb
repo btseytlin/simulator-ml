{
 "cells": [
  {
   "cell_type": "code",
   "execution_count": 1,
   "metadata": {},
   "outputs": [],
   "source": [
    "%load_ext autoreload\n",
    "%autoreload 2"
   ]
  },
  {
   "cell_type": "code",
   "execution_count": 18,
   "metadata": {},
   "outputs": [],
   "source": [
    "import pandas as pd"
   ]
  },
  {
   "cell_type": "code",
   "execution_count": 17,
   "metadata": {},
   "outputs": [],
   "source": [
    "from baseline import cross_val_score, prepare_dataset, compare_models"
   ]
  },
  {
   "cell_type": "code",
   "execution_count": 7,
   "metadata": {},
   "outputs": [],
   "source": [
    "# dataset using make regression\n",
    "from sklearn.datasets import make_regression\n",
    "\n",
    "data, target = make_regression(n_samples=1000, n_features=10)"
   ]
  },
  {
   "cell_type": "code",
   "execution_count": 14,
   "metadata": {},
   "outputs": [],
   "source": [
    "from sklearn.ensemble import RandomForestRegressor\n",
    "\n",
    "model = RandomForestRegressor(n_estimators=200)\n",
    "params_list = [\n",
    "    {\"max_depth\": 10},  # baseline\n",
    "    {\"max_depth\": 2},\n",
    "    {\"max_depth\": 3},\n",
    "    {\"max_depth\": 4},\n",
    "]\n"
   ]
  },
  {
   "cell_type": "code",
   "execution_count": 15,
   "metadata": {},
   "outputs": [],
   "source": [
    "from sklearn.metrics import r2_score\n",
    "\n",
    "result = cross_val_score(\n",
    "    model,\n",
    "    X=data,\n",
    "    y=target,\n",
    "    cv=3,\n",
    "    scoring=r2_score,\n",
    "    params_list=params_list,\n",
    ")"
   ]
  },
  {
   "cell_type": "code",
   "execution_count": 16,
   "metadata": {},
   "outputs": [
    {
     "data": {
      "text/plain": [
       "array([[0.82649051, 0.82047996, 0.83521087],\n",
       "       [0.4611933 , 0.46634564, 0.43317483],\n",
       "       [0.59723566, 0.58554476, 0.57761416],\n",
       "       [0.68173701, 0.66631207, 0.67894432]])"
      ]
     },
     "execution_count": 16,
     "metadata": {},
     "output_type": "execute_result"
    }
   ],
   "source": [
    "result"
   ]
  },
  {
   "cell_type": "code",
   "execution_count": 28,
   "metadata": {},
   "outputs": [
    {
     "name": "stdout",
     "output_type": "stream",
     "text": [
      "KFold\n",
      "   model_index  avg_score  effect_sign\n",
      "0            3   0.570022            1\n",
      "1            4   0.569075            1\n",
      "2            2   0.567321            1\n",
      "3            5   0.559491            1\n",
      "4            6   0.553175           -1\n",
      "5            7   0.550585           -1\n",
      "6            8   0.542542           -1\n",
      "7            1   0.502750           -1\n"
     ]
    }
   ],
   "source": [
    "data_path = \"train.csv.zip\"\n",
    "random_state = 42\n",
    "cv = 5\n",
    "params_list = [\n",
    "    {\"max_depth\": 10},  # baseline\n",
    "    {\"max_depth\": 2},\n",
    "    {\"max_depth\": 3},\n",
    "    {\"max_depth\": 4},\n",
    "    {\"max_depth\": 5},\n",
    "    {\"max_depth\": 9},\n",
    "    {\"max_depth\": 11},\n",
    "    {\"max_depth\": 12},\n",
    "    {\"max_depth\": 15},\n",
    "]\n",
    "\n",
    "X, y = prepare_dataset(data_path)\n",
    "model = RandomForestRegressor(\n",
    "    n_estimators=200, n_jobs=-1, random_state=random_state\n",
    ")\n",
    "\n",
    "result = compare_models(\n",
    "    cv=cv,\n",
    "    model=model,\n",
    "    params_list=params_list,\n",
    "    X=X,\n",
    "    y=y,\n",
    "    random_state=random_state,\n",
    "    show_progress=True,\n",
    ")\n",
    "print(\"KFold\")\n",
    "print(pd.DataFrame(result))"
   ]
  },
  {
   "cell_type": "code",
   "execution_count": 27,
   "metadata": {},
   "outputs": [
    {
     "name": "stdout",
     "output_type": "stream",
     "text": [
      "KFold\n",
      "   model_index  avg_score  effect_sign\n",
      "0            1   0.503042           -1\n"
     ]
    },
    {
     "data": {
      "text/plain": [
       "\"\\nAssertionError: Function 'cross_val_score' returns incorrect value for RandomForestRegressor. For example, for max_depth=2, random_state=42, n_estimators=50, cv=5, scoring=r2_score you should get [0.50666363 0.36732098 0.52903007 0.56666586 0.54552863], but you get [0.56432716 0.40892336 0.55204628 0.53879416 0.56933918]\\n\\nAssertionError: Function 'compare_models' returns incorrect value. For example, for params_list=[{'max_depth': 10}, {'max_depth': 2}, {'max_depth': 3}, {'max_depth': 12}, {'max_depth': 15}] , cv=5, you should get 'effect_sign' for models '[1, -1, -1, -1], but you get for models '[-1, 1, -1, -1]\\n\""
      ]
     },
     "execution_count": 27,
     "metadata": {},
     "output_type": "execute_result"
    }
   ],
   "source": [
    "data_path = \"train.csv.zip\"\n",
    "random_state = 42\n",
    "cv = 5\n",
    "params_list = [\n",
    "    {\"max_depth\": 10},  # baseline\n",
    "    {\"max_depth\": 2},\n",
    "]\n",
    "\n",
    "X, y = prepare_dataset(data_path)\n",
    "model = RandomForestRegressor(\n",
    "    n_estimators=50, n_jobs=-1, random_state=random_state\n",
    ")\n",
    "\n",
    "result = compare_models(\n",
    "    cv=cv,\n",
    "    model=model,\n",
    "    params_list=params_list,\n",
    "    X=X,\n",
    "    y=y,\n",
    "    random_state=random_state,\n",
    "    show_progress=True,\n",
    ")\n",
    "print(\"KFold\")\n",
    "print(pd.DataFrame(result))\n",
    "\n",
    "\"\"\"\n",
    "AssertionError: Function 'cross_val_score' returns incorrect value for RandomForestRegressor. For example, for max_depth=2, random_state=42, n_estimators=50, cv=5, scoring=r2_score you should get [0.50666363 0.36732098 0.52903007 0.56666586 0.54552863], but you get [0.56432716 0.40892336 0.55204628 0.53879416 0.56933918]\n",
    "\n",
    "AssertionError: Function 'compare_models' returns incorrect value. For example, for params_list=[{'max_depth': 10}, {'max_depth': 2}, {'max_depth': 3}, {'max_depth': 12}, {'max_depth': 15}] , cv=5, you should get 'effect_sign' for models '[1, -1, -1, -1], but you get for models '[-1, 1, -1, -1]\n",
    "\"\"\"\n"
   ]
  },
  {
   "cell_type": "code",
   "execution_count": 24,
   "metadata": {},
   "outputs": [
    {
     "data": {
      "text/plain": [
       "array([0.50666363, 0.36732098, 0.52903007, 0.56666586, 0.54552863])"
      ]
     },
     "execution_count": 24,
     "metadata": {},
     "output_type": "execute_result"
    }
   ],
   "source": [
    "data_path = \"train.csv.zip\"\n",
    "random_state = 42\n",
    "cv = 5\n",
    "params_list = [\n",
    "    {\"max_depth\": 10},  # baseline\n",
    "    {\"max_depth\": 2},\n",
    "]\n",
    "\n",
    "X, y = prepare_dataset(data_path)\n",
    "model = RandomForestRegressor(\n",
    "    n_estimators=50, n_jobs=-1, random_state=random_state\n",
    ")\n",
    "\n",
    "result = cross_val_score(\n",
    "    model,\n",
    "    X=X,\n",
    "    y=y,\n",
    "    cv=cv,\n",
    "    scoring=r2_score,\n",
    "    params_list=params_list,\n",
    ")\n",
    "result[1]"
   ]
  },
  {
   "cell_type": "code",
   "execution_count": null,
   "metadata": {},
   "outputs": [],
   "source": []
  }
 ],
 "metadata": {
  "kernelspec": {
   "display_name": "base",
   "language": "python",
   "name": "python3"
  },
  "language_info": {
   "codemirror_mode": {
    "name": "ipython",
    "version": 3
   },
   "file_extension": ".py",
   "mimetype": "text/x-python",
   "name": "python",
   "nbconvert_exporter": "python",
   "pygments_lexer": "ipython3",
   "version": "3.10.6"
  }
 },
 "nbformat": 4,
 "nbformat_minor": 2
}
