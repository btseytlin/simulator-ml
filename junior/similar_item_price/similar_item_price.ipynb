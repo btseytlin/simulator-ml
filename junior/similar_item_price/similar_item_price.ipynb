{
 "cells": [
  {
   "cell_type": "code",
   "execution_count": 14,
   "metadata": {},
   "outputs": [
    {
     "name": "stdout",
     "output_type": "stream",
     "text": [
      "The autoreload extension is already loaded. To reload it, use:\n",
      "  %reload_ext autoreload\n"
     ]
    }
   ],
   "source": [
    "import pandas as pd\n",
    "import numpy as np\n",
    "\n",
    "%load_ext autoreload\n",
    "%autoreload 2"
   ]
  },
  {
   "cell_type": "code",
   "execution_count": 15,
   "metadata": {},
   "outputs": [],
   "source": [
    "from similar_item_price import SimilarItems"
   ]
  },
  {
   "cell_type": "code",
   "execution_count": 16,
   "metadata": {},
   "outputs": [],
   "source": [
    "embeddings = {\n",
    "    1: np.array([-26.57, -76.61, 81.61, -9.11, 74.8, 54.23, 32.56, -22.62, -72.44, -82.78]),\n",
    "    2: np.array([-55.98, 82.87, 86.07, 18.71, -18.66, -46.74, -68.18, 60.29, 98.92, -78.95]),\n",
    "    3: np.array([-27.97, 25.39, -96.85, 3.51, 95.57, -27.48, -80.27, 8.39, 89.96, -36.68]),\n",
    "    4: np.array([-37.0, -49.39, 43.3, 73.36, 29.98, -56.44, -15.91, -56.46, 24.54, 12.43]),\n",
    "    5: np.array([-22.71, 4.47, -65.42, 10.11, 98.34, 17.96, -10.77, 2.5, -26.55, 69.16])\n",
    "}\n",
    "\n",
    "\n",
    "prices = {\n",
    "    1: 100.5,\n",
    "    2: 12.2,\n",
    "    3: 60.0,\n",
    "    4: 11.1,\n",
    "    5: 245.2\n",
    "}"
   ]
  },
  {
   "cell_type": "code",
   "execution_count": 25,
   "metadata": {},
   "outputs": [
    {
     "data": {
      "text/plain": [
       "{(1, 2): -0.15456349,\n",
       " (1, 3): -0.27053417,\n",
       " (1, 4): 0.18181101,\n",
       " (1, 5): -0.03886083,\n",
       " (2, 3): 0.31346095,\n",
       " (2, 4): 0.14582334,\n",
       " (2, 5): -0.45207678,\n",
       " (3, 4): 0.10573868,\n",
       " (3, 5): 0.43696494,\n",
       " (4, 5): 0.03519999}"
      ]
     },
     "execution_count": 25,
     "metadata": {},
     "output_type": "execute_result"
    }
   ],
   "source": [
    "SimilarItems.similarity(embeddings)"
   ]
  },
  {
   "cell_type": "code",
   "execution_count": 27,
   "metadata": {},
   "outputs": [
    {
     "data": {
      "text/plain": [
       "{1: [(4, 0.18181101), (5, -0.03886083)],\n",
       " 2: [(3, 0.31346095), (4, 0.14582334)],\n",
       " 3: [(5, 0.43696494), (2, 0.31346095)],\n",
       " 4: [(1, 0.18181101), (2, 0.14582334)],\n",
       " 5: [(3, 0.43696494), (4, 0.03519999)]}"
      ]
     },
     "execution_count": 27,
     "metadata": {},
     "output_type": "execute_result"
    }
   ],
   "source": [
    "SimilarItems.knn(SimilarItems.similarity(embeddings), 2)"
   ]
  },
  {
   "cell_type": "code",
   "execution_count": 19,
   "metadata": {},
   "outputs": [],
   "source": [
    "knn_out = SimilarItems.knn(SimilarItems.similarity(embeddings), 2)"
   ]
  },
  {
   "cell_type": "code",
   "execution_count": 20,
   "metadata": {},
   "outputs": [
    {
     "data": {
      "text/plain": [
       "{1: 116.1, 2: 37.22, 3: 143.4, 4: 245.2}"
      ]
     },
     "execution_count": 20,
     "metadata": {},
     "output_type": "execute_result"
    }
   ],
   "source": [
    "SimilarItems.knn_price(\n",
    "    knn_out,\n",
    "    prices,\n",
    ")"
   ]
  },
  {
   "cell_type": "code",
   "execution_count": 21,
   "metadata": {},
   "outputs": [
    {
     "data": {
      "text/plain": [
       "{1: 116.1, 2: 37.22, 3: 143.4, 4: 245.2}"
      ]
     },
     "execution_count": 21,
     "metadata": {},
     "output_type": "execute_result"
    }
   ],
   "source": [
    "SimilarItems.transform(\n",
    "    embeddings,\n",
    "    prices,\n",
    "    top=2,\n",
    ")"
   ]
  },
  {
   "cell_type": "code",
   "execution_count": null,
   "metadata": {},
   "outputs": [],
   "source": []
  }
 ],
 "metadata": {
  "kernelspec": {
   "display_name": "Python 3",
   "language": "python",
   "name": "python3"
  },
  "language_info": {
   "codemirror_mode": {
    "name": "ipython",
    "version": 3
   },
   "file_extension": ".py",
   "mimetype": "text/x-python",
   "name": "python",
   "nbconvert_exporter": "python",
   "pygments_lexer": "ipython3",
   "version": "3.10.6"
  },
  "orig_nbformat": 4
 },
 "nbformat": 4,
 "nbformat_minor": 2
}
