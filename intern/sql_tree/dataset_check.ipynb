{
 "cells": [
  {
   "cell_type": "code",
   "execution_count": 56,
   "metadata": {},
   "outputs": [],
   "source": [
    "from sklearn.datasets import make_classification"
   ]
  },
  {
   "cell_type": "code",
   "execution_count": 57,
   "metadata": {},
   "outputs": [
    {
     "name": "stdout",
     "output_type": "stream",
     "text": [
      "The autoreload extension is already loaded. To reload it, use:\n",
      "  %reload_ext autoreload\n"
     ]
    }
   ],
   "source": [
    "%load_ext autoreload\n",
    "%autoreload 2"
   ]
  },
  {
   "cell_type": "code",
   "execution_count": 58,
   "metadata": {},
   "outputs": [
    {
     "data": {
      "text/plain": [
       "((1000, 20), (1000,))"
      ]
     },
     "execution_count": 58,
     "metadata": {},
     "output_type": "execute_result"
    }
   ],
   "source": [
    "X, y = make_classification(n_samples=1000, n_features=20, n_informative=2, n_redundant=2, random_state=0)\n",
    "X.shape, y.shape"
   ]
  },
  {
   "cell_type": "code",
   "execution_count": 59,
   "metadata": {},
   "outputs": [],
   "source": [
    "dataset = (X, y)\n"
   ]
  },
  {
   "cell_type": "code",
   "execution_count": 60,
   "metadata": {},
   "outputs": [],
   "source": [
    "from sklearn.tree import DecisionTreeClassifier"
   ]
  },
  {
   "cell_type": "code",
   "execution_count": 61,
   "metadata": {},
   "outputs": [
    {
     "data": {
      "text/html": [
       "<style>#sk-container-id-7 {color: black;background-color: white;}#sk-container-id-7 pre{padding: 0;}#sk-container-id-7 div.sk-toggleable {background-color: white;}#sk-container-id-7 label.sk-toggleable__label {cursor: pointer;display: block;width: 100%;margin-bottom: 0;padding: 0.3em;box-sizing: border-box;text-align: center;}#sk-container-id-7 label.sk-toggleable__label-arrow:before {content: \"▸\";float: left;margin-right: 0.25em;color: #696969;}#sk-container-id-7 label.sk-toggleable__label-arrow:hover:before {color: black;}#sk-container-id-7 div.sk-estimator:hover label.sk-toggleable__label-arrow:before {color: black;}#sk-container-id-7 div.sk-toggleable__content {max-height: 0;max-width: 0;overflow: hidden;text-align: left;background-color: #f0f8ff;}#sk-container-id-7 div.sk-toggleable__content pre {margin: 0.2em;color: black;border-radius: 0.25em;background-color: #f0f8ff;}#sk-container-id-7 input.sk-toggleable__control:checked~div.sk-toggleable__content {max-height: 200px;max-width: 100%;overflow: auto;}#sk-container-id-7 input.sk-toggleable__control:checked~label.sk-toggleable__label-arrow:before {content: \"▾\";}#sk-container-id-7 div.sk-estimator input.sk-toggleable__control:checked~label.sk-toggleable__label {background-color: #d4ebff;}#sk-container-id-7 div.sk-label input.sk-toggleable__control:checked~label.sk-toggleable__label {background-color: #d4ebff;}#sk-container-id-7 input.sk-hidden--visually {border: 0;clip: rect(1px 1px 1px 1px);clip: rect(1px, 1px, 1px, 1px);height: 1px;margin: -1px;overflow: hidden;padding: 0;position: absolute;width: 1px;}#sk-container-id-7 div.sk-estimator {font-family: monospace;background-color: #f0f8ff;border: 1px dotted black;border-radius: 0.25em;box-sizing: border-box;margin-bottom: 0.5em;}#sk-container-id-7 div.sk-estimator:hover {background-color: #d4ebff;}#sk-container-id-7 div.sk-parallel-item::after {content: \"\";width: 100%;border-bottom: 1px solid gray;flex-grow: 1;}#sk-container-id-7 div.sk-label:hover label.sk-toggleable__label {background-color: #d4ebff;}#sk-container-id-7 div.sk-serial::before {content: \"\";position: absolute;border-left: 1px solid gray;box-sizing: border-box;top: 0;bottom: 0;left: 50%;z-index: 0;}#sk-container-id-7 div.sk-serial {display: flex;flex-direction: column;align-items: center;background-color: white;padding-right: 0.2em;padding-left: 0.2em;position: relative;}#sk-container-id-7 div.sk-item {position: relative;z-index: 1;}#sk-container-id-7 div.sk-parallel {display: flex;align-items: stretch;justify-content: center;background-color: white;position: relative;}#sk-container-id-7 div.sk-item::before, #sk-container-id-7 div.sk-parallel-item::before {content: \"\";position: absolute;border-left: 1px solid gray;box-sizing: border-box;top: 0;bottom: 0;left: 50%;z-index: -1;}#sk-container-id-7 div.sk-parallel-item {display: flex;flex-direction: column;z-index: 1;position: relative;background-color: white;}#sk-container-id-7 div.sk-parallel-item:first-child::after {align-self: flex-end;width: 50%;}#sk-container-id-7 div.sk-parallel-item:last-child::after {align-self: flex-start;width: 50%;}#sk-container-id-7 div.sk-parallel-item:only-child::after {width: 0;}#sk-container-id-7 div.sk-dashed-wrapped {border: 1px dashed gray;margin: 0 0.4em 0.5em 0.4em;box-sizing: border-box;padding-bottom: 0.4em;background-color: white;}#sk-container-id-7 div.sk-label label {font-family: monospace;font-weight: bold;display: inline-block;line-height: 1.2em;}#sk-container-id-7 div.sk-label-container {text-align: center;}#sk-container-id-7 div.sk-container {/* jupyter's `normalize.less` sets `[hidden] { display: none; }` but bootstrap.min.css set `[hidden] { display: none !important; }` so we also need the `!important` here to be able to override the default hidden behavior on the sphinx rendered scikit-learn.org. See: https://github.com/scikit-learn/scikit-learn/issues/21755 */display: inline-block !important;position: relative;}#sk-container-id-7 div.sk-text-repr-fallback {display: none;}</style><div id=\"sk-container-id-7\" class=\"sk-top-container\"><div class=\"sk-text-repr-fallback\"><pre>DecisionTreeClassifier(max_depth=3)</pre><b>In a Jupyter environment, please rerun this cell to show the HTML representation or trust the notebook. <br />On GitHub, the HTML representation is unable to render, please try loading this page with nbviewer.org.</b></div><div class=\"sk-container\" hidden><div class=\"sk-item\"><div class=\"sk-estimator sk-toggleable\"><input class=\"sk-toggleable__control sk-hidden--visually\" id=\"sk-estimator-id-7\" type=\"checkbox\" checked><label for=\"sk-estimator-id-7\" class=\"sk-toggleable__label sk-toggleable__label-arrow\">DecisionTreeClassifier</label><div class=\"sk-toggleable__content\"><pre>DecisionTreeClassifier(max_depth=3)</pre></div></div></div></div></div>"
      ],
      "text/plain": [
       "DecisionTreeClassifier(max_depth=3)"
      ]
     },
     "execution_count": 61,
     "metadata": {},
     "output_type": "execute_result"
    }
   ],
   "source": [
    "model = DecisionTreeClassifier(max_depth=3).fit(X, y)\n",
    "model"
   ]
  },
  {
   "cell_type": "code",
   "execution_count": 62,
   "metadata": {},
   "outputs": [
    {
     "name": "stdout",
     "output_type": "stream",
     "text": [
      "{\n",
      "  \"feature_index\": 11,\n",
      "  \"threshold\": -0.1806,\n",
      "  \"left\": {\n",
      "    \"feature_index\": 11,\n",
      "    \"threshold\": -0.4623,\n",
      "    \"left\": {\n",
      "      \"feature_index\": 19,\n",
      "      \"threshold\": 1.927,\n",
      "      \"left\": {\n",
      "        \"class\": 0\n",
      "      },\n",
      "      \"right\": {\n",
      "        \"class\": 1\n",
      "      }\n",
      "    },\n",
      "    \"right\": {\n",
      "      \"feature_index\": 19,\n",
      "      \"threshold\": 1.1794,\n",
      "      \"left\": {\n",
      "        \"class\": 1\n",
      "      },\n",
      "      \"right\": {\n",
      "        \"class\": 0\n",
      "      }\n",
      "    }\n",
      "  },\n",
      "  \"right\": {\n",
      "    \"feature_index\": 12,\n",
      "    \"threshold\": -1.4483,\n",
      "    \"left\": {\n",
      "      \"feature_index\": 11,\n",
      "      \"threshold\": 0.4817,\n",
      "      \"left\": {\n",
      "        \"class\": 0\n",
      "      },\n",
      "      \"right\": {\n",
      "        \"class\": 1\n",
      "      }\n",
      "    },\n",
      "    \"right\": {\n",
      "      \"feature_index\": 16,\n",
      "      \"threshold\": -1.9313,\n",
      "      \"left\": {\n",
      "        \"class\": 1\n",
      "      },\n",
      "      \"right\": {\n",
      "        \"class\": 1\n",
      "      }\n",
      "    }\n",
      "  }\n",
      "}\n"
     ]
    }
   ],
   "source": [
    "from generate_sql_query import convert_tree_to_json, generate_sql_query\n",
    "\n",
    "tree_json = convert_tree_to_json(model)\n",
    "print(tree_json)"
   ]
  },
  {
   "cell_type": "code",
   "execution_count": 63,
   "metadata": {},
   "outputs": [
    {
     "name": "stdout",
     "output_type": "stream",
     "text": [
      "SELECT \n",
      "CASE WHEN f11 > -0.1806 THEN \n",
      "\tCASE WHEN f11 > -0.4623 THEN \n",
      "\t\tCASE WHEN f19 > 1.927 THEN 0\n",
      "\t\tELSE 1\n",
      "\t\tEND\n",
      "\tELSE \n",
      "\t\tCASE WHEN f19 > 1.1794 THEN 1\n",
      "\t\tELSE 0\n",
      "\t\tEND\n",
      "\tEND\n",
      "ELSE \n",
      "\tCASE WHEN f12 > -1.4483 THEN \n",
      "\t\tCASE WHEN f11 > 0.4817 THEN 0\n",
      "\t\tELSE 1\n",
      "\t\tEND\n",
      "\tELSE \n",
      "\t\tCASE WHEN f16 > -1.9313 THEN 1\n",
      "\t\tELSE 1\n",
      "\t\tEND\n",
      "\tEND\n",
      "END as class_label\n"
     ]
    }
   ],
   "source": [
    "print(generate_sql_query(tree_json, features=[f\"f{i}\" for i in range(X.shape[1])]))"
   ]
  },
  {
   "cell_type": "code",
   "execution_count": 64,
   "metadata": {},
   "outputs": [
    {
     "name": "stdout",
     "output_type": "stream",
     "text": [
      "SELECT \n",
      "CASE WHEN feature_3 > -0.301 THEN \n",
      "\tCASE WHEN feature_1 > 1.4003 THEN 1\n",
      "\tELSE 0\n",
      "\tEND\n",
      "ELSE 1\n",
      "END as class_label\n"
     ]
    }
   ],
   "source": [
    "import json\n",
    "example = {\n",
    "  \"feature_index\": 3,\n",
    "  \"threshold\": -0.301,\n",
    "  \"left\": {\n",
    "    \"class\": 1\n",
    "  },\n",
    "  \"right\": {\n",
    "    \"feature_index\": 1,\n",
    "    \"threshold\": 1.4003,\n",
    "    \"left\": {\n",
    "      \"class\": 0\n",
    "    },\n",
    "    \"right\": {\n",
    "      \"class\": 1\n",
    "    }\n",
    "  }\n",
    "}\n",
    "example_json = json.dumps(example)\n",
    "example_sql = \"\"\"SELECT\n",
    "  CASE\n",
    "    WHEN feature_3 > -0.301 THEN\n",
    "      CASE\n",
    "        WHEN feature_1 > 1.4003 THEN 1\n",
    "        ELSE 0\n",
    "      END\n",
    "    ELSE 1\n",
    "  END AS class_label\n",
    "\"\"\"\n",
    "\n",
    "\n",
    "print(generate_sql_query(example_json, features=[f\"feature_{i}\" for i in range(X.shape[1])]))\n"
   ]
  }
 ],
 "metadata": {
  "kernelspec": {
   "display_name": "Python 3",
   "language": "python",
   "name": "python3"
  },
  "language_info": {
   "codemirror_mode": {
    "name": "ipython",
    "version": 3
   },
   "file_extension": ".py",
   "mimetype": "text/x-python",
   "name": "python",
   "nbconvert_exporter": "python",
   "pygments_lexer": "ipython3",
   "version": "3.1.0"
  },
  "orig_nbformat": 4
 },
 "nbformat": 4,
 "nbformat_minor": 2
}
